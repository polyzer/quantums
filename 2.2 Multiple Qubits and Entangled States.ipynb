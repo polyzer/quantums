{
 "cells": [
  {
   "cell_type": "code",
   "execution_count": 1,
   "metadata": {},
   "outputs": [
    {
     "name": "stdout",
     "output_type": "stream",
     "text": [
      "Requirement already satisfied: qiskit_textbook in /home/sheff/anaconda3/lib/python3.7/site-packages (0.1.0)\n",
      "Requirement already satisfied: matplotlib in /home/sheff/anaconda3/lib/python3.7/site-packages (from qiskit_textbook) (3.1.3)\n",
      "Requirement already satisfied: ipywidgets in /home/sheff/anaconda3/lib/python3.7/site-packages (from qiskit_textbook) (7.5.1)\n",
      "Requirement already satisfied: qiskit in /home/sheff/anaconda3/lib/python3.7/site-packages (from qiskit_textbook) (0.22.0)\n",
      "Requirement already satisfied: numpy in /home/sheff/anaconda3/lib/python3.7/site-packages (from qiskit_textbook) (1.18.0)\n",
      "Requirement already satisfied: ipython in /home/sheff/anaconda3/lib/python3.7/site-packages (from qiskit_textbook) (7.12.0)\n",
      "Requirement already satisfied: python-dateutil>=2.1 in /home/sheff/anaconda3/lib/python3.7/site-packages (from matplotlib->qiskit_textbook) (2.8.1)\n",
      "Requirement already satisfied: kiwisolver>=1.0.1 in /home/sheff/anaconda3/lib/python3.7/site-packages (from matplotlib->qiskit_textbook) (1.1.0)\n",
      "Requirement already satisfied: pyparsing!=2.0.4,!=2.1.2,!=2.1.6,>=2.0.1 in /home/sheff/anaconda3/lib/python3.7/site-packages (from matplotlib->qiskit_textbook) (2.4.6)\n",
      "Requirement already satisfied: cycler>=0.10 in /home/sheff/anaconda3/lib/python3.7/site-packages (from matplotlib->qiskit_textbook) (0.10.0)\n",
      "Requirement already satisfied: ipykernel>=4.5.1 in /home/sheff/anaconda3/lib/python3.7/site-packages (from ipywidgets->qiskit_textbook) (5.1.4)\n",
      "Requirement already satisfied: nbformat>=4.2.0 in /home/sheff/anaconda3/lib/python3.7/site-packages (from ipywidgets->qiskit_textbook) (5.0.4)\n",
      "Requirement already satisfied: widgetsnbextension~=3.5.0 in /home/sheff/anaconda3/lib/python3.7/site-packages (from ipywidgets->qiskit_textbook) (3.5.1)\n",
      "Requirement already satisfied: traitlets>=4.3.1 in /home/sheff/anaconda3/lib/python3.7/site-packages (from ipywidgets->qiskit_textbook) (4.3.3)\n",
      "Requirement already satisfied: qiskit-aer==0.6.1 in /home/sheff/anaconda3/lib/python3.7/site-packages (from qiskit->qiskit_textbook) (0.6.1)\n",
      "Requirement already satisfied: qiskit-terra==0.15.2 in /home/sheff/anaconda3/lib/python3.7/site-packages (from qiskit->qiskit_textbook) (0.15.2)\n",
      "Requirement already satisfied: qiskit-ignis==0.4.0 in /home/sheff/anaconda3/lib/python3.7/site-packages (from qiskit->qiskit_textbook) (0.4.0)\n",
      "Requirement already satisfied: qiskit-ibmq-provider==0.10.0 in /home/sheff/anaconda3/lib/python3.7/site-packages (from qiskit->qiskit_textbook) (0.10.0)\n",
      "Requirement already satisfied: qiskit-aqua==0.7.5 in /home/sheff/anaconda3/lib/python3.7/site-packages (from qiskit->qiskit_textbook) (0.7.5)\n",
      "Requirement already satisfied: setuptools>=18.5 in /home/sheff/anaconda3/lib/python3.7/site-packages (from ipython->qiskit_textbook) (45.2.0.post20200210)\n",
      "Requirement already satisfied: pygments in /home/sheff/anaconda3/lib/python3.7/site-packages (from ipython->qiskit_textbook) (2.5.2)\n",
      "Requirement already satisfied: pickleshare in /home/sheff/anaconda3/lib/python3.7/site-packages (from ipython->qiskit_textbook) (0.7.5)\n",
      "Requirement already satisfied: decorator in /home/sheff/anaconda3/lib/python3.7/site-packages (from ipython->qiskit_textbook) (4.4.1)\n",
      "Requirement already satisfied: prompt-toolkit!=3.0.0,!=3.0.1,<3.1.0,>=2.0.0 in /home/sheff/anaconda3/lib/python3.7/site-packages (from ipython->qiskit_textbook) (3.0.3)\n",
      "Requirement already satisfied: pexpect; sys_platform != \"win32\" in /home/sheff/anaconda3/lib/python3.7/site-packages (from ipython->qiskit_textbook) (4.8.0)\n",
      "Requirement already satisfied: backcall in /home/sheff/anaconda3/lib/python3.7/site-packages (from ipython->qiskit_textbook) (0.1.0)\n",
      "Requirement already satisfied: jedi>=0.10 in /home/sheff/anaconda3/lib/python3.7/site-packages (from ipython->qiskit_textbook) (0.14.1)\n",
      "Requirement already satisfied: six>=1.5 in /home/sheff/anaconda3/lib/python3.7/site-packages (from python-dateutil>=2.1->matplotlib->qiskit_textbook) (1.14.0)\n",
      "Requirement already satisfied: tornado>=4.2 in /home/sheff/anaconda3/lib/python3.7/site-packages (from ipykernel>=4.5.1->ipywidgets->qiskit_textbook) (6.0.4)\n",
      "Requirement already satisfied: jupyter-client in /home/sheff/anaconda3/lib/python3.7/site-packages (from ipykernel>=4.5.1->ipywidgets->qiskit_textbook) (5.3.4)\n",
      "Requirement already satisfied: jsonschema!=2.5.0,>=2.4 in /home/sheff/anaconda3/lib/python3.7/site-packages (from nbformat>=4.2.0->ipywidgets->qiskit_textbook) (3.2.0)\n",
      "Requirement already satisfied: ipython-genutils in /home/sheff/anaconda3/lib/python3.7/site-packages (from nbformat>=4.2.0->ipywidgets->qiskit_textbook) (0.2.0)\n",
      "Requirement already satisfied: jupyter-core in /home/sheff/anaconda3/lib/python3.7/site-packages (from nbformat>=4.2.0->ipywidgets->qiskit_textbook) (4.6.1)\n",
      "Requirement already satisfied: notebook>=4.4.1 in /home/sheff/anaconda3/lib/python3.7/site-packages (from widgetsnbextension~=3.5.0->ipywidgets->qiskit_textbook) (6.0.3)\n",
      "Requirement already satisfied: scipy>=1.0; python_version > \"3.5\" in /home/sheff/anaconda3/lib/python3.7/site-packages (from qiskit-aer==0.6.1->qiskit->qiskit_textbook) (1.4.1)\n",
      "Requirement already satisfied: pybind11>=2.4 in /home/sheff/anaconda3/lib/python3.7/site-packages (from qiskit-aer==0.6.1->qiskit->qiskit_textbook) (2.5.0)\n",
      "Requirement already satisfied: cython>=0.27.1 in /home/sheff/anaconda3/lib/python3.7/site-packages (from qiskit-aer==0.6.1->qiskit->qiskit_textbook) (0.29.14)\n",
      "Requirement already satisfied: fastjsonschema>=2.10 in /home/sheff/anaconda3/lib/python3.7/site-packages (from qiskit-terra==0.15.2->qiskit->qiskit_textbook) (2.14.4)\n",
      "Requirement already satisfied: python-constraint>=1.4 in /home/sheff/anaconda3/lib/python3.7/site-packages (from qiskit-terra==0.15.2->qiskit->qiskit_textbook) (1.4.0)\n",
      "Requirement already satisfied: psutil>=5 in /home/sheff/anaconda3/lib/python3.7/site-packages (from qiskit-terra==0.15.2->qiskit->qiskit_textbook) (5.6.7)\n",
      "Requirement already satisfied: sympy>=1.3 in /home/sheff/anaconda3/lib/python3.7/site-packages (from qiskit-terra==0.15.2->qiskit->qiskit_textbook) (1.5.1)\n",
      "Requirement already satisfied: networkx>=2.2; python_version > \"3.5\" in /home/sheff/anaconda3/lib/python3.7/site-packages (from qiskit-terra==0.15.2->qiskit->qiskit_textbook) (2.4)\n",
      "Requirement already satisfied: ply>=3.10 in /home/sheff/anaconda3/lib/python3.7/site-packages (from qiskit-terra==0.15.2->qiskit->qiskit_textbook) (3.11)\n",
      "Requirement already satisfied: dill>=0.3 in /home/sheff/anaconda3/lib/python3.7/site-packages (from qiskit-terra==0.15.2->qiskit->qiskit_textbook) (0.3.2)\n",
      "Requirement already satisfied: retworkx>=0.4.0 in /home/sheff/anaconda3/lib/python3.7/site-packages (from qiskit-terra==0.15.2->qiskit->qiskit_textbook) (0.5.0)\n",
      "Requirement already satisfied: scikit-learn>=0.17 in /home/sheff/anaconda3/lib/python3.7/site-packages (from qiskit-ignis==0.4.0->qiskit->qiskit_textbook) (0.23.1)\n",
      "Requirement already satisfied: requests-ntlm>=1.1.0 in /home/sheff/anaconda3/lib/python3.7/site-packages (from qiskit-ibmq-provider==0.10.0->qiskit->qiskit_textbook) (1.1.0)\n",
      "Requirement already satisfied: nest-asyncio!=1.1.0,>=1.0.0 in /home/sheff/anaconda3/lib/python3.7/site-packages (from qiskit-ibmq-provider==0.10.0->qiskit->qiskit_textbook) (1.3.3)\n",
      "Requirement already satisfied: requests>=2.19 in /home/sheff/anaconda3/lib/python3.7/site-packages (from qiskit-ibmq-provider==0.10.0->qiskit->qiskit_textbook) (2.22.0)\n",
      "Requirement already satisfied: urllib3>=1.21.1 in /home/sheff/anaconda3/lib/python3.7/site-packages (from qiskit-ibmq-provider==0.10.0->qiskit->qiskit_textbook) (1.25.8)\n",
      "Requirement already satisfied: websockets>=8; python_version > \"3.6\" in /home/sheff/anaconda3/lib/python3.7/site-packages (from qiskit-ibmq-provider==0.10.0->qiskit->qiskit_textbook) (8.1)\n",
      "Requirement already satisfied: quandl in /home/sheff/anaconda3/lib/python3.7/site-packages (from qiskit-aqua==0.7.5->qiskit->qiskit_textbook) (3.5.0)\n",
      "Requirement already satisfied: h5py in /home/sheff/anaconda3/lib/python3.7/site-packages (from qiskit-aqua==0.7.5->qiskit->qiskit_textbook) (2.10.0)\n",
      "Requirement already satisfied: pandas in /home/sheff/anaconda3/lib/python3.7/site-packages (from qiskit-aqua==0.7.5->qiskit->qiskit_textbook) (0.25.3)\n",
      "Requirement already satisfied: yfinance in /home/sheff/anaconda3/lib/python3.7/site-packages (from qiskit-aqua==0.7.5->qiskit->qiskit_textbook) (0.1.55)\n"
     ]
    },
    {
     "name": "stdout",
     "output_type": "stream",
     "text": [
      "Requirement already satisfied: docplex in /home/sheff/anaconda3/lib/python3.7/site-packages (from qiskit-aqua==0.7.5->qiskit->qiskit_textbook) (2.14.186)\n",
      "Requirement already satisfied: dlx in /home/sheff/anaconda3/lib/python3.7/site-packages (from qiskit-aqua==0.7.5->qiskit->qiskit_textbook) (1.0.4)\n",
      "Requirement already satisfied: fastdtw in /home/sheff/anaconda3/lib/python3.7/site-packages (from qiskit-aqua==0.7.5->qiskit->qiskit_textbook) (0.3.4)\n",
      "Requirement already satisfied: wcwidth in /home/sheff/anaconda3/lib/python3.7/site-packages (from prompt-toolkit!=3.0.0,!=3.0.1,<3.1.0,>=2.0.0->ipython->qiskit_textbook) (0.1.8)\n",
      "Requirement already satisfied: ptyprocess>=0.5 in /home/sheff/anaconda3/lib/python3.7/site-packages (from pexpect; sys_platform != \"win32\"->ipython->qiskit_textbook) (0.6.0)\n",
      "Requirement already satisfied: parso>=0.5.0 in /home/sheff/anaconda3/lib/python3.7/site-packages (from jedi>=0.10->ipython->qiskit_textbook) (0.5.2)\n",
      "Requirement already satisfied: pyzmq>=13 in /home/sheff/anaconda3/lib/python3.7/site-packages (from jupyter-client->ipykernel>=4.5.1->ipywidgets->qiskit_textbook) (18.1.1)\n",
      "Requirement already satisfied: attrs>=17.4.0 in /home/sheff/anaconda3/lib/python3.7/site-packages (from jsonschema!=2.5.0,>=2.4->nbformat>=4.2.0->ipywidgets->qiskit_textbook) (19.3.0)\n",
      "Requirement already satisfied: pyrsistent>=0.14.0 in /home/sheff/anaconda3/lib/python3.7/site-packages (from jsonschema!=2.5.0,>=2.4->nbformat>=4.2.0->ipywidgets->qiskit_textbook) (0.15.7)\n",
      "Requirement already satisfied: importlib-metadata; python_version < \"3.8\" in /home/sheff/anaconda3/lib/python3.7/site-packages (from jsonschema!=2.5.0,>=2.4->nbformat>=4.2.0->ipywidgets->qiskit_textbook) (1.5.0)\n",
      "Requirement already satisfied: jinja2 in /home/sheff/anaconda3/lib/python3.7/site-packages (from notebook>=4.4.1->widgetsnbextension~=3.5.0->ipywidgets->qiskit_textbook) (2.11.1)\n",
      "Requirement already satisfied: terminado>=0.8.1 in /home/sheff/anaconda3/lib/python3.7/site-packages (from notebook>=4.4.1->widgetsnbextension~=3.5.0->ipywidgets->qiskit_textbook) (0.8.3)\n",
      "Requirement already satisfied: prometheus-client in /home/sheff/anaconda3/lib/python3.7/site-packages (from notebook>=4.4.1->widgetsnbextension~=3.5.0->ipywidgets->qiskit_textbook) (0.7.1)\n",
      "Requirement already satisfied: Send2Trash in /home/sheff/anaconda3/lib/python3.7/site-packages (from notebook>=4.4.1->widgetsnbextension~=3.5.0->ipywidgets->qiskit_textbook) (1.5.0)\n",
      "Requirement already satisfied: nbconvert in /home/sheff/anaconda3/lib/python3.7/site-packages (from notebook>=4.4.1->widgetsnbextension~=3.5.0->ipywidgets->qiskit_textbook) (5.6.1)\n",
      "Requirement already satisfied: mpmath>=0.19 in /home/sheff/anaconda3/lib/python3.7/site-packages (from sympy>=1.3->qiskit-terra==0.15.2->qiskit->qiskit_textbook) (1.1.0)\n",
      "Requirement already satisfied: joblib>=0.11 in /home/sheff/anaconda3/lib/python3.7/site-packages (from scikit-learn>=0.17->qiskit-ignis==0.4.0->qiskit->qiskit_textbook) (0.14.1)\n",
      "Requirement already satisfied: threadpoolctl>=2.0.0 in /home/sheff/anaconda3/lib/python3.7/site-packages (from scikit-learn>=0.17->qiskit-ignis==0.4.0->qiskit->qiskit_textbook) (2.1.0)\n",
      "Requirement already satisfied: cryptography>=1.3 in /home/sheff/anaconda3/lib/python3.7/site-packages (from requests-ntlm>=1.1.0->qiskit-ibmq-provider==0.10.0->qiskit->qiskit_textbook) (2.8)\n",
      "Requirement already satisfied: ntlm-auth>=1.0.2 in /home/sheff/anaconda3/lib/python3.7/site-packages (from requests-ntlm>=1.1.0->qiskit-ibmq-provider==0.10.0->qiskit->qiskit_textbook) (1.5.0)\n",
      "Requirement already satisfied: idna<2.9,>=2.5 in /home/sheff/anaconda3/lib/python3.7/site-packages (from requests>=2.19->qiskit-ibmq-provider==0.10.0->qiskit->qiskit_textbook) (2.8)\n",
      "Requirement already satisfied: certifi>=2017.4.17 in /home/sheff/anaconda3/lib/python3.7/site-packages (from requests>=2.19->qiskit-ibmq-provider==0.10.0->qiskit->qiskit_textbook) (2019.11.28)\n",
      "Requirement already satisfied: chardet<3.1.0,>=3.0.2 in /home/sheff/anaconda3/lib/python3.7/site-packages (from requests>=2.19->qiskit-ibmq-provider==0.10.0->qiskit->qiskit_textbook) (3.0.4)\n",
      "Requirement already satisfied: more-itertools in /home/sheff/anaconda3/lib/python3.7/site-packages (from quandl->qiskit-aqua==0.7.5->qiskit->qiskit_textbook) (8.2.0)\n",
      "Requirement already satisfied: inflection>=0.3.1 in /home/sheff/anaconda3/lib/python3.7/site-packages (from quandl->qiskit-aqua==0.7.5->qiskit->qiskit_textbook) (0.5.0)\n",
      "Requirement already satisfied: pytz>=2017.2 in /home/sheff/anaconda3/lib/python3.7/site-packages (from pandas->qiskit-aqua==0.7.5->qiskit->qiskit_textbook) (2019.1)\n",
      "Requirement already satisfied: multitasking>=0.0.7 in /home/sheff/anaconda3/lib/python3.7/site-packages (from yfinance->qiskit-aqua==0.7.5->qiskit->qiskit_textbook) (0.0.9)\n",
      "Requirement already satisfied: lxml>=4.5.1 in /home/sheff/anaconda3/lib/python3.7/site-packages (from yfinance->qiskit-aqua==0.7.5->qiskit->qiskit_textbook) (4.5.2)\n",
      "Requirement already satisfied: zipp>=0.5 in /home/sheff/anaconda3/lib/python3.7/site-packages (from importlib-metadata; python_version < \"3.8\"->jsonschema!=2.5.0,>=2.4->nbformat>=4.2.0->ipywidgets->qiskit_textbook) (2.2.0)\n",
      "Requirement already satisfied: MarkupSafe>=0.23 in /home/sheff/anaconda3/lib/python3.7/site-packages (from jinja2->notebook>=4.4.1->widgetsnbextension~=3.5.0->ipywidgets->qiskit_textbook) (1.1.1)\n",
      "Requirement already satisfied: mistune<2,>=0.8.1 in /home/sheff/anaconda3/lib/python3.7/site-packages (from nbconvert->notebook>=4.4.1->widgetsnbextension~=3.5.0->ipywidgets->qiskit_textbook) (0.8.4)\n",
      "Requirement already satisfied: testpath in /home/sheff/anaconda3/lib/python3.7/site-packages (from nbconvert->notebook>=4.4.1->widgetsnbextension~=3.5.0->ipywidgets->qiskit_textbook) (0.4.4)\n",
      "Requirement already satisfied: entrypoints>=0.2.2 in /home/sheff/anaconda3/lib/python3.7/site-packages (from nbconvert->notebook>=4.4.1->widgetsnbextension~=3.5.0->ipywidgets->qiskit_textbook) (0.3)\n",
      "Requirement already satisfied: defusedxml in /home/sheff/anaconda3/lib/python3.7/site-packages (from nbconvert->notebook>=4.4.1->widgetsnbextension~=3.5.0->ipywidgets->qiskit_textbook) (0.6.0)\n",
      "Requirement already satisfied: bleach in /home/sheff/anaconda3/lib/python3.7/site-packages (from nbconvert->notebook>=4.4.1->widgetsnbextension~=3.5.0->ipywidgets->qiskit_textbook) (3.1.0)\n",
      "Requirement already satisfied: pandocfilters>=1.4.1 in /home/sheff/anaconda3/lib/python3.7/site-packages (from nbconvert->notebook>=4.4.1->widgetsnbextension~=3.5.0->ipywidgets->qiskit_textbook) (1.4.2)\n",
      "Requirement already satisfied: cffi!=1.11.3,>=1.8 in /home/sheff/anaconda3/lib/python3.7/site-packages (from cryptography>=1.3->requests-ntlm>=1.1.0->qiskit-ibmq-provider==0.10.0->qiskit->qiskit_textbook) (1.14.0)\n",
      "Requirement already satisfied: webencodings in /home/sheff/anaconda3/lib/python3.7/site-packages (from bleach->nbconvert->notebook>=4.4.1->widgetsnbextension~=3.5.0->ipywidgets->qiskit_textbook) (0.5.1)\n",
      "Requirement already satisfied: pycparser in /home/sheff/anaconda3/lib/python3.7/site-packages (from cffi!=1.11.3,>=1.8->cryptography>=1.3->requests-ntlm>=1.1.0->qiskit-ibmq-provider==0.10.0->qiskit->qiskit_textbook) (2.19)\n"
     ]
    }
   ],
   "source": [
    "!pip install qiskit_textbook"
   ]
  },
  {
   "cell_type": "code",
   "execution_count": 3,
   "metadata": {},
   "outputs": [],
   "source": [
    "from qiskit import *\n",
    "from math import pi\n",
    "import numpy as np\n",
    "from qiskit.visualization import plot_bloch_multivector, plot_histogram"
   ]
  },
  {
   "cell_type": "code",
   "execution_count": 5,
   "metadata": {},
   "outputs": [
    {
     "data": {
      "text/html": [
       "<pre style=\"word-wrap: normal;white-space: pre;background: #fff0;line-height: 1.1;font-family: &quot;Courier New&quot;,Courier,monospace\">     ┌───┐\n",
       "q_0: ┤ H ├\n",
       "     ├───┤\n",
       "q_1: ┤ H ├\n",
       "     ├───┤\n",
       "q_2: ┤ H ├\n",
       "     └───┘</pre>"
      ],
      "text/plain": [
       "     ┌───┐\n",
       "q_0: ┤ H ├\n",
       "     ├───┤\n",
       "q_1: ┤ H ├\n",
       "     ├───┤\n",
       "q_2: ┤ H ├\n",
       "     └───┘"
      ]
     },
     "execution_count": 5,
     "metadata": {},
     "output_type": "execute_result"
    }
   ],
   "source": [
    "qc = QuantumCircuit(3)\n",
    "for qubit in range(3):\n",
    "    qc.h(qubit)\n",
    "qc.draw()"
   ]
  },
  {
   "cell_type": "code",
   "execution_count": 4,
   "metadata": {},
   "outputs": [
    {
     "data": {
      "text/latex": [
       "$\\displaystyle \n",
       "\\text{Statevector} = \\begin{bmatrix}\n",
       "\\tfrac{1}{\\sqrt{8}} \\\\\n",
       "\\tfrac{1}{\\sqrt{8}} \\\\\n",
       "\\tfrac{1}{\\sqrt{8}} \\\\\n",
       "\\tfrac{1}{\\sqrt{8}} \\\\\n",
       "\\tfrac{1}{\\sqrt{8}} \\\\\n",
       "\\tfrac{1}{\\sqrt{8}} \\\\\n",
       "\\tfrac{1}{\\sqrt{8}} \\\\\n",
       "\\tfrac{1}{\\sqrt{8}}\n",
       "\\end{bmatrix}\n",
       "$"
      ],
      "text/plain": [
       "<IPython.core.display.Math object>"
      ]
     },
     "metadata": {},
     "output_type": "display_data"
    }
   ],
   "source": [
    "# Let's see the result\n",
    "backend = Aer.get_backend('statevector_simulator')\n",
    "final_state = execute(qc,backend).result().get_statevector()\n",
    "\n",
    "# In Jupyter Notebooks we can display this nicely using Latex.\n",
    "# If not using Jupyter Notebooks you may need to remove the \n",
    "# array_to_latex function and use print(final_state) instead.\n",
    "from qiskit_textbook.tools import array_to_latex\n",
    "array_to_latex(final_state, pretext=\"\\\\text{Statevector} = \")"
   ]
  },
  {
   "cell_type": "code",
   "execution_count": 6,
   "metadata": {},
   "outputs": [
    {
     "data": {
      "text/html": [
       "<pre style=\"word-wrap: normal;white-space: pre;background: #fff0;line-height: 1.1;font-family: &quot;Courier New&quot;,Courier,monospace\">     ┌───┐\n",
       "q_0: ┤ H ├\n",
       "     ├───┤\n",
       "q_1: ┤ X ├\n",
       "     └───┘</pre>"
      ],
      "text/plain": [
       "     ┌───┐\n",
       "q_0: ┤ H ├\n",
       "     ├───┤\n",
       "q_1: ┤ X ├\n",
       "     └───┘"
      ]
     },
     "execution_count": 6,
     "metadata": {},
     "output_type": "execute_result"
    }
   ],
   "source": [
    "qc = QuantumCircuit(2)\n",
    "qc.h(0)\n",
    "qc.x(1)\n",
    "qc.draw()"
   ]
  },
  {
   "cell_type": "code",
   "execution_count": 7,
   "metadata": {},
   "outputs": [],
   "source": [
    "backend = Aer.get_backend('unitary_simulator')\n",
    "unitary = execute(qc, backend).result().get_unitary()"
   ]
  },
  {
   "cell_type": "code",
   "execution_count": 8,
   "metadata": {},
   "outputs": [
    {
     "data": {
      "text/latex": [
       "$\\displaystyle \n",
       "\\text{Circuit = }\n",
       "\\begin{bmatrix}\n",
       "0 & 0 & \\tfrac{1}{\\sqrt{2}} & \\tfrac{1}{\\sqrt{2}}  \\\\\n",
       "0 & 0 & \\tfrac{1}{\\sqrt{2}} & -\\tfrac{1}{\\sqrt{2}}  \\\\\n",
       "\\tfrac{1}{\\sqrt{2}} & \\tfrac{1}{\\sqrt{2}} & 0 & 0  \\\\\n",
       "\\tfrac{1}{\\sqrt{2}} & -\\tfrac{1}{\\sqrt{2}} & 0 & 0  \\\\\n",
       "\\end{bmatrix}\n",
       "$$\n",
       "$"
      ],
      "text/plain": [
       "<IPython.core.display.Math object>"
      ]
     },
     "metadata": {},
     "output_type": "display_data"
    }
   ],
   "source": [
    "from qiskit_textbook.tools import array_to_latex\n",
    "array_to_latex(unitary, pretext=\"\\\\text{Circuit = }\\n\")"
   ]
  },
  {
   "cell_type": "code",
   "execution_count": 9,
   "metadata": {},
   "outputs": [
    {
     "data": {
      "text/html": [
       "<pre style=\"word-wrap: normal;white-space: pre;background: #fff0;line-height: 1.1;font-family: &quot;Courier New&quot;,Courier,monospace\">     ┌───┐\n",
       "q_0: ┤ H ├\n",
       "     └───┘</pre>"
      ],
      "text/plain": [
       "     ┌───┐\n",
       "q_0: ┤ H ├\n",
       "     └───┘"
      ]
     },
     "execution_count": 9,
     "metadata": {},
     "output_type": "execute_result"
    }
   ],
   "source": [
    "qc = QuantumCircuit(1)\n",
    "qc.h(0)\n",
    "qc.draw()"
   ]
  },
  {
   "cell_type": "code",
   "execution_count": 10,
   "metadata": {},
   "outputs": [
    {
     "data": {
      "text/latex": [
       "$\\displaystyle \n",
       "\\text{Circuit = } \\begin{bmatrix}\n",
       "\\tfrac{1}{\\sqrt{2}} & \\tfrac{1}{\\sqrt{2}}  \\\\\n",
       "\\tfrac{1}{\\sqrt{2}} & -\\tfrac{1}{\\sqrt{2}}  \\\\\n",
       "\\end{bmatrix}\n",
       "$$\n",
       "$"
      ],
      "text/plain": [
       "<IPython.core.display.Math object>"
      ]
     },
     "metadata": {},
     "output_type": "display_data"
    },
    {
     "data": {
      "image/png": "[encoded data removed]",
      "text/plain": [
       "<Figure size 504x360 with 1 Axes>"
      ]
     },
     "execution_count": 10,
     "metadata": {},
     "output_type": "execute_result"
    }
   ],
   "source": [
    "uni_backend = Aer.get_backend('unitary_simulator')\n",
    "state_backend = Aer.get_backend('statevector_simulator')\n",
    "\n",
    "unitary = execute(qc, uni_backend).result().get_unitary()\n",
    "res = execute(qc, state_backend).result()\n",
    "statevector = res.get_statevector()\n",
    "counts = res.get_counts()\n",
    "array_to_latex(unitary, pretext=\"\\\\text{Circuit = } \")\n",
    "plot_histogram(counts)"
   ]
  },
  {
   "cell_type": "code",
   "execution_count": 32,
   "metadata": {},
   "outputs": [
    {
     "data": {
      "text/html": [
       "<pre style=\"word-wrap: normal;white-space: pre;background: #fff0;line-height: 1.1;font-family: &quot;Courier New&quot;,Courier,monospace\">          \n",
       "q_0: ─────\n",
       "     ┌───┐\n",
       "q_1: ┤ X ├\n",
       "     └───┘</pre>"
      ],
      "text/plain": [
       "          \n",
       "q_0: ─────\n",
       "     ┌───┐\n",
       "q_1: ┤ X ├\n",
       "     └───┘"
      ]
     },
     "execution_count": 32,
     "metadata": {},
     "output_type": "execute_result"
    }
   ],
   "source": [
    "qc = QuantumCircuit(2)\n",
    "qc.x(1)\n",
    "qc.draw()"
   ]
  },
  {
   "cell_type": "code",
   "execution_count": 33,
   "metadata": {},
   "outputs": [
    {
     "data": {
      "text/latex": [
       "$\\displaystyle \n",
       "\\text{Circuit = } \\begin{bmatrix}\n",
       "0 & 0 & 1 & 0  \\\\\n",
       "0 & 0 & 0 & 1  \\\\\n",
       "1 & 0 & 0 & 0  \\\\\n",
       "0 & 1 & 0 & 0  \\\\\n",
       "\\end{bmatrix}\n",
       "$$\n",
       "$"
      ],
      "text/plain": [
       "<IPython.core.display.Math object>"
      ]
     },
     "metadata": {},
     "output_type": "display_data"
    }
   ],
   "source": [
    "backend = Aer.get_backend('unitary_simulator')\n",
    "unitary = execute(qc, backend).result().get_unitary()\n",
    "array_to_latex(unitary, pretext=\"\\\\text{Circuit = } \")"
   ]
  },
  {
   "cell_type": "code",
   "execution_count": 12,
   "metadata": {},
   "outputs": [
    {
     "data": {
      "text/latex": [
       "$\\displaystyle \n",
       "\\text{Circuit = } \\begin{bmatrix}\n",
       "-\\tfrac{1}{\\sqrt{2}} & \\tfrac{1}{\\sqrt{2}}  \\\\\n",
       "\\tfrac{1}{\\sqrt{2}} & \\tfrac{1}{\\sqrt{2}}  \\\\\n",
       "\\end{bmatrix}\n",
       "$$\n",
       "$"
      ],
      "text/plain": [
       "<IPython.core.display.Math object>"
      ]
     },
     "metadata": {},
     "output_type": "display_data"
    }
   ],
   "source": [
    "qc = QuantumCircuit(1)\n",
    "qc.x(0)\n",
    "qc.z(0)\n",
    "qc.h(0)\n",
    "backend = Aer.get_backend(\"unitary_simulator\")\n",
    "unitary = execute(qc, backend).result().get_unitary()\n",
    "array_to_latex(unitary, pretext=\"\\\\text{Circuit = } \")"
   ]
  },
  {
   "cell_type": "markdown",
   "metadata": {},
   "source": [
    "## 3.1 The CNOT-Gate"
   ]
  },
  {
   "cell_type": "code",
   "execution_count": 17,
   "metadata": {},
   "outputs": [
    {
     "data": {
      "text/latex": [
       "$\\displaystyle \n",
       "\\text{Statevector = } \\begin{bmatrix}\n",
       "1 \\\\\n",
       "0 \\\\\n",
       "0 \\\\\n",
       "0\n",
       "\\end{bmatrix}\n",
       "$"
      ],
      "text/plain": [
       "<IPython.core.display.Math object>"
      ]
     },
     "metadata": {},
     "output_type": "display_data"
    }
   ],
   "source": [
    "qc = QuantumCircuit(2)\n",
    "qc.cx(0,1)\n",
    "qc.draw()\n"
   ]
  },
  {
   "cell_type": "code",
   "execution_count": 16,
   "metadata": {},
   "outputs": [
    {
     "data": {
      "text/latex": [
       "$\\displaystyle \n",
       "\\text{Statevector = } \\begin{bmatrix}\n",
       "1 \\\\\n",
       "0 \\\\\n",
       "0 \\\\\n",
       "0\n",
       "\\end{bmatrix}\n",
       "$"
      ],
      "text/plain": [
       "<IPython.core.display.Math object>"
      ]
     },
     "metadata": {},
     "output_type": "display_data"
    }
   ],
   "source": [
    "backend = Aer.get_backend('statevector_simulator')\n",
    "final_state = execute(qc, backend).result().get_statevector()\n",
    "array_to_latex(final_state, pretext = \"\\\\text{Statevector = } \")"
   ]
  },
  {
   "cell_type": "code",
   "execution_count": 18,
   "metadata": {},
   "outputs": [
    {
     "data": {
      "text/html": [
       "<pre style=\"word-wrap: normal;white-space: pre;background: #fff0;line-height: 1.1;font-family: &quot;Courier New&quot;,Courier,monospace\">     ┌───┐\n",
       "q_0: ┤ H ├\n",
       "     └───┘\n",
       "q_1: ─────\n",
       "          </pre>"
      ],
      "text/plain": [
       "     ┌───┐\n",
       "q_0: ┤ H ├\n",
       "     └───┘\n",
       "q_1: ─────\n",
       "          "
      ]
     },
     "execution_count": 18,
     "metadata": {},
     "output_type": "execute_result"
    }
   ],
   "source": [
    "qc = QuantumCircuit(2)\n",
    "qc.h(0)\n",
    "qc.draw()"
   ]
  },
  {
   "cell_type": "code",
   "execution_count": 20,
   "metadata": {},
   "outputs": [
    {
     "data": {
      "text/latex": [
       "$\\displaystyle \n",
       "\\text{Statevector = }\\begin{bmatrix}\n",
       "\\tfrac{1}{\\sqrt{2}} \\\\\n",
       "\\tfrac{1}{\\sqrt{2}} \\\\\n",
       "0 \\\\\n",
       "0\n",
       "\\end{bmatrix}\n",
       "$"
      ],
      "text/plain": [
       "<IPython.core.display.Math object>"
      ]
     },
     "metadata": {},
     "output_type": "display_data"
    }
   ],
   "source": [
    "backend = Aer.get_backend('statevector_simulator')\n",
    "result = execute(qc, backend).result()\n",
    "st_vector = result.get_statevector()\n",
    "array_to_latex(st_vector, pretext = \"\\\\text{Statevector = }\")"
   ]
  },
  {
   "cell_type": "code",
   "execution_count": 28,
   "metadata": {},
   "outputs": [
    {
     "data": {
      "text/html": [
       "<pre style=\"word-wrap: normal;white-space: pre;background: #fff0;line-height: 1.1;font-family: &quot;Courier New&quot;,Courier,monospace\">     ┌───┐     \n",
       "q_0: ┤ H ├──■──\n",
       "     └───┘┌─┴─┐\n",
       "q_1: ─────┤ X ├\n",
       "          └───┘</pre>"
      ],
      "text/plain": [
       "     ┌───┐     \n",
       "q_0: ┤ H ├──■──\n",
       "     └───┘┌─┴─┐\n",
       "q_1: ─────┤ X ├\n",
       "          └───┘"
      ]
     },
     "execution_count": 28,
     "metadata": {},
     "output_type": "execute_result"
    }
   ],
   "source": [
    "qc = QuantumCircuit(2)\n",
    "qc.h(0)\n",
    "qc.cx(0,1)\n",
    "qc.draw()"
   ]
  },
  {
   "cell_type": "code",
   "execution_count": 30,
   "metadata": {},
   "outputs": [],
   "source": [
    "backend = Aer.get_backend('statevector_simulator')\n",
    "result = execute(qc, backend).result()\n",
    "st_vector = result.get_statevector()\n",
    "count = result.get_counts()"
   ]
  },
  {
   "cell_type": "code",
   "execution_count": 31,
   "metadata": {},
   "outputs": [
    {
     "data": {
      "text/latex": [
       "$\\displaystyle \n",
       "\\text{Statevector = }\\begin{bmatrix}\n",
       "\\tfrac{1}{\\sqrt{2}} \\\\\n",
       "0 \\\\\n",
       "0 \\\\\n",
       "\\tfrac{1}{\\sqrt{2}}\n",
       "\\end{bmatrix}\n",
       "$"
      ],
      "text/plain": [
       "<IPython.core.display.Math object>"
      ]
     },
     "metadata": {},
     "output_type": "display_data"
    }
   ],
   "source": [
    "array_to_latex(st_vector, pretext = \"\\\\text{Statevector = }\")"
   ]
  },
  {
   "cell_type": "code",
   "execution_count": 32,
   "metadata": {},
   "outputs": [
    {
     "data": {
      "image/png": "[encoded data removed]",
      "text/plain": [
       "<Figure size 504x360 with 1 Axes>"
      ]
     },
     "execution_count": 32,
     "metadata": {},
     "output_type": "execute_result"
    }
   ],
   "source": [
    "plot_histogram(count)"
   ]
  },
  {
   "cell_type": "markdown",
   "metadata": {},
   "source": [
    "## Entangled States"
   ]
  },
  {
   "cell_type": "code",
   "execution_count": null,
   "metadata": {},
   "outputs": [],
   "source": []
  }
 ],
 "metadata": {
  "kernelspec": {
   "display_name": "Python 3",
   "language": "python",
   "name": "python3"
  },
  "language_info": {
   "codemirror_mode": {
    "name": "ipython",
    "version": 3
   },
   "file_extension": ".py",
   "mimetype": "text/x-python",
   "name": "python",
   "nbconvert_exporter": "python",
   "pygments_lexer": "ipython3",
   "version": "3.7.6"
  }
 },
 "nbformat": 4,
 "nbformat_minor": 4
}
